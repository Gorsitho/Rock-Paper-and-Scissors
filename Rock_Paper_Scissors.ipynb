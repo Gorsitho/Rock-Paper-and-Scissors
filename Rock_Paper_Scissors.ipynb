{
 "cells": [
  {
   "cell_type": "markdown",
   "metadata": {},
   "source": [
    "# Rock, Paper and Scissors"
   ]
  },
  {
   "cell_type": "markdown",
   "metadata": {},
   "source": [
    "Game of stone, paper and scissors using a small neural network.\n",
    "\n",
    "<b>Made by : Sergio Daniel Velasquez Pobre - Software engineer </b>\n",
    "\n",
    "\n",
    "* Reference : https://www.youtube.com/watch?v=eZpSGS7vF5Y"
   ]
  },
  {
   "cell_type": "code",
   "execution_count": 59,
   "metadata": {
    "collapsed": true
   },
   "outputs": [],
   "source": [
    "options = [\"rock\", \"scissors\", \"paper\"]"
   ]
  },
  {
   "cell_type": "code",
   "execution_count": 60,
   "metadata": {
    "collapsed": true
   },
   "outputs": [],
   "source": [
    "def search_winner(p1, p2): # Method to find the winner\n",
    "    if p1 == p2:\n",
    "        result = 0\n",
    "    \n",
    "    elif p1 == \"rock\" and p2 == \"scissors\":\n",
    "        result = 1\n",
    "    elif p1 == \"rock\" and p2 == \"paper\":\n",
    "        result = 2\n",
    "    elif p1 == \"scissors\" and p2 == \"rock\":\n",
    "        result = 2\n",
    "    elif p1 == \"scissors\" and p2 == \"paper\":\n",
    "        result = 1\n",
    "    elif p1 == \"paper\" and p2 == \"rock\":\n",
    "        result = 1\n",
    "    elif p1 == \"paper\" and p2 == \"scissors\":\n",
    "        result = 2\n",
    "        \n",
    "    return result"
   ]
  },
  {
   "cell_type": "code",
   "execution_count": 61,
   "metadata": {},
   "outputs": [
    {
     "data": {
      "text/plain": [
       "2"
      ]
     },
     "execution_count": 61,
     "metadata": {},
     "output_type": "execute_result"
    }
   ],
   "source": [
    "search_winner(\"paper\", \"scissors\") # Demonstration of the method"
   ]
  },
  {
   "cell_type": "code",
   "execution_count": 62,
   "metadata": {},
   "outputs": [
    {
     "name": "stdout",
     "output_type": "stream",
     "text": [
      "player1: rock player2: rock Winner: 0 Validation: 0\n",
      "player1: rock player2: scissors Winner: 1 Validation: 1\n",
      "player1: rock player2: paper Winner: 2 Validation: 2\n"
     ]
    }
   ],
   "source": [
    "# testing the game\n",
    "test = [\n",
    "    [\"rock\", \"rock\", 0],\n",
    "    [\"rock\", \"scissors\", 1],\n",
    "    [\"rock\", \"paper\", 2]\n",
    "]\n",
    "\n",
    "for partida in test:\n",
    "    print(\"player1: %s player2: %s Winner: %s Validation: %s\" % (\n",
    "        partida[0], partida[1], search_winner(partida[0], partida[1]), partida[2]\n",
    "    ))"
   ]
  },
  {
   "cell_type": "code",
   "execution_count": 63,
   "metadata": {
    "collapsed": true
   },
   "outputs": [],
   "source": [
    "from random import choice\n",
    "def get_choice():\n",
    "    return choice(options) # choose an option within the list\n"
   ]
  },
  {
   "cell_type": "code",
   "execution_count": 64,
   "metadata": {},
   "outputs": [
    {
     "name": "stdout",
     "output_type": "stream",
     "text": [
      "player1: rock player2: scissors Winner: 1 \n",
      "player1: scissors player2: scissors Winner: 0 \n",
      "player1: scissors player2: paper Winner: 1 \n",
      "player1: scissors player2: rock Winner: 2 \n",
      "player1: paper player2: paper Winner: 0 \n",
      "player1: scissors player2: paper Winner: 1 \n",
      "player1: paper player2: rock Winner: 1 \n",
      "player1: rock player2: scissors Winner: 1 \n",
      "player1: rock player2: paper Winner: 2 \n",
      "player1: rock player2: scissors Winner: 1 \n"
     ]
    }
   ],
   "source": [
    "for i in range(10):  # testing the game \n",
    "    player1 = get_choice()\n",
    "    player2 = get_choice()\n",
    "    print(\"player1: %s player2: %s Winner: %s \" % (\n",
    "        player1, player2, search_winner(player1, player2)\n",
    "    ))"
   ]
  },
  {
   "cell_type": "code",
   "execution_count": 65,
   "metadata": {},
   "outputs": [
    {
     "name": "stdout",
     "output_type": "stream",
     "text": [
      "[[1, 0, 0], [0, 1, 0], [0, 0, 1]]\n",
      "[[0, 0, 1], [1, 0, 0], [0, 1, 0]]\n"
     ]
    }
   ],
   "source": [
    "def str_to_list(option): # Converting options into binary lists.\n",
    "    if option==\"rock\":\n",
    "        res = [1,0,0]\n",
    "    elif option==\"scissors\":\n",
    "        res = [0,1,0]\n",
    "    else:\n",
    "        res = [0,0,1]\n",
    "    return res\n",
    "\n",
    "data_X = list(map(str_to_list, [\"rock\", \"scissors\", \"paper\"])) \n",
    "data_y = list(map(str_to_list, [\"paper\", \"rock\", \"scissors\"]))\n",
    "\n",
    "print(data_X)\n",
    "print(data_y)"
   ]
  },
  {
   "cell_type": "code",
   "execution_count": 66,
   "metadata": {
    "collapsed": true
   },
   "outputs": [],
   "source": [
    "from sklearn.neural_network import MLPClassifier \n",
    "# from copy import deepcopy  # make a copy"
   ]
  },
  {
   "cell_type": "code",
   "execution_count": 67,
   "metadata": {
    "collapsed": true
   },
   "outputs": [],
   "source": [
    "clf = MLPClassifier(verbose=False, warm_start=True) #  implements a multi-layer perceptron (MLP) algorithm that trains using Backpropagation."
   ]
  },
  {
   "cell_type": "code",
   "execution_count": 68,
   "metadata": {
    "collapsed": true
   },
   "outputs": [],
   "source": [
    "#tmp_clf = deepcopy(clf) # make a copy"
   ]
  },
  {
   "cell_type": "code",
   "execution_count": 69,
   "metadata": {
    "collapsed": true
   },
   "outputs": [],
   "source": [
    "#clf=tmp_clf # make a copy"
   ]
  },
  {
   "cell_type": "code",
   "execution_count": 70,
   "metadata": {},
   "outputs": [
    {
     "name": "stdout",
     "output_type": "stream",
     "text": [
      "MLPClassifier(activation='relu', alpha=0.0001, batch_size='auto', beta_1=0.9,\n",
      "       beta_2=0.999, early_stopping=False, epsilon=1e-08,\n",
      "       hidden_layer_sizes=(100,), learning_rate='constant',\n",
      "       learning_rate_init=0.001, max_iter=200, momentum=0.9,\n",
      "       nesterovs_momentum=True, power_t=0.5, random_state=None,\n",
      "       shuffle=True, solver='adam', tol=0.0001, validation_fraction=0.1,\n",
      "       verbose=False, warm_start=True)\n"
     ]
    },
    {
     "name": "stderr",
     "output_type": "stream",
     "text": [
      "C:\\Users\\Amanda\\Anaconda3\\lib\\site-packages\\sklearn\\neural_network\\multilayer_perceptron.py:564: ConvergenceWarning: Stochastic Optimizer: Maximum iterations (200) reached and the optimization hasn't converged yet.\n",
      "  % self.max_iter, ConvergenceWarning)\n"
     ]
    }
   ],
   "source": [
    "model = clf.fit([data_X[0]], [data_y[0]]) # model training, it is only known that paper wins to stone\n",
    "print(model)"
   ]
  },
  {
   "cell_type": "code",
   "execution_count": 71,
   "metadata": {
    "collapsed": true
   },
   "outputs": [],
   "source": [
    "def play_and_learn(iters=10, debug=False): \n",
    "    score = {\"win\": 0, \"loose\": 0}\n",
    "    \n",
    "    data_X = []\n",
    "    data_y = []\n",
    "    #predictSumatoria=0\n",
    "    \n",
    "    for i in range(iters):\n",
    "        player1 = get_choice()\n",
    "        \n",
    "        # you get the weight of each probability that occurs in each iteration\n",
    "        predict = model.predict_proba([str_to_list(player1)])[0] \n",
    "        \n",
    "        #predictSumatoria+=predict\n",
    "        if predict[0] >= 0.85:\n",
    "            player2 = options[0]\n",
    "        elif predict[1] >= 0.85:\n",
    "            player2 = options[1]\n",
    "        elif predict[2] >= 0.85:\n",
    "            player2 = options[2]\n",
    "        else:\n",
    "            player2 = get_choice()\n",
    "            \n",
    "        if debug==True:\n",
    "            print(\"Player1: %s Player2 (modelo): %s --> %s\" % (player1, predict, player2))\n",
    "        \n",
    "        winner = search_winner(player1, player2)\n",
    "        if debug==True:\n",
    "            print(\"Comprobamos: p1 VS p2: %s\" % winner)\n",
    "        \n",
    "        if winner==2:\n",
    "            data_X.append(str_to_list(player1))\n",
    "            data_y.append(str_to_list(player2))\n",
    "            \n",
    "            score[\"win\"]+=1\n",
    "        else:\n",
    "            score[\"loose\"]+=1\n",
    "        \n",
    "    return score, data_X, data_y #,predictSumatoria/iters\n",
    "\n",
    "\n",
    "        "
   ]
  },
  {
   "cell_type": "code",
   "execution_count": 72,
   "metadata": {},
   "outputs": [
    {
     "name": "stdout",
     "output_type": "stream",
     "text": [
      "Player1: scissors Player2 (modelo): [ 0.1121821   0.11044454  0.8903142 ] --> paper\n",
      "Comprobamos: p1 VS p2: 1\n",
      "[]\n",
      "[]\n",
      "Score: {'win': 0, 'loose': 1} 0.0 %\n"
     ]
    }
   ],
   "source": [
    "score, data_X, data_y= play_and_learn(1, debug=True)\n",
    "print(data_X)\n",
    "print(data_y)\n",
    "print(\"Score: %s %s %%\" % (score, (score[\"win\"]*100/(score[\"win\"]+score[\"loose\"]))))\n",
    "if len(data_X):\n",
    "    model = model.partial_fit(data_X, data_y)\n"
   ]
  },
  {
   "cell_type": "code",
   "execution_count": 73,
   "metadata": {
    "scrolled": true
   },
   "outputs": [
    {
     "name": "stdout",
     "output_type": "stream",
     "text": [
      "Iter: 1 - score: {'win': 346, 'loose': 654} 34.6 %\n",
      "Iter: 2 - score: {'win': 333, 'loose': 667} 33.3 %\n",
      "Iter: 3 - score: {'win': 354, 'loose': 646} 35.4 %\n",
      "Iter: 4 - score: {'win': 338, 'loose': 662} 33.8 %\n",
      "Iter: 5 - score: {'win': 329, 'loose': 671} 32.9 %\n",
      "Iter: 6 - score: {'win': 326, 'loose': 674} 32.6 %\n",
      "Iter: 7 - score: {'win': 310, 'loose': 690} 31.0 %\n",
      "Iter: 8 - score: {'win': 340, 'loose': 660} 34.0 %\n",
      "Iter: 9 - score: {'win': 322, 'loose': 678} 32.2 %\n",
      "Iter: 10 - score: {'win': 334, 'loose': 666} 33.4 %\n",
      "Iter: 11 - score: {'win': 313, 'loose': 687} 31.3 %\n",
      "Iter: 12 - score: {'win': 309, 'loose': 691} 30.9 %\n",
      "Iter: 13 - score: {'win': 352, 'loose': 648} 35.2 %\n",
      "Iter: 14 - score: {'win': 311, 'loose': 689} 31.1 %\n",
      "Iter: 15 - score: {'win': 329, 'loose': 671} 32.9 %\n",
      "Iter: 16 - score: {'win': 319, 'loose': 681} 31.9 %\n",
      "Iter: 17 - score: {'win': 338, 'loose': 662} 33.8 %\n",
      "Iter: 18 - score: {'win': 325, 'loose': 675} 32.5 %\n",
      "Iter: 19 - score: {'win': 329, 'loose': 671} 32.9 %\n",
      "Iter: 20 - score: {'win': 345, 'loose': 655} 34.5 %\n",
      "Iter: 21 - score: {'win': 328, 'loose': 672} 32.8 %\n",
      "Iter: 22 - score: {'win': 312, 'loose': 688} 31.2 %\n",
      "Iter: 23 - score: {'win': 356, 'loose': 644} 35.6 %\n",
      "Iter: 24 - score: {'win': 373, 'loose': 627} 37.3 %\n",
      "Iter: 25 - score: {'win': 325, 'loose': 675} 32.5 %\n",
      "Iter: 26 - score: {'win': 361, 'loose': 639} 36.1 %\n",
      "Iter: 27 - score: {'win': 336, 'loose': 664} 33.6 %\n",
      "Iter: 28 - score: {'win': 326, 'loose': 674} 32.6 %\n",
      "Iter: 29 - score: {'win': 332, 'loose': 668} 33.2 %\n",
      "Iter: 30 - score: {'win': 339, 'loose': 661} 33.9 %\n",
      "Iter: 31 - score: {'win': 358, 'loose': 642} 35.8 %\n",
      "Iter: 32 - score: {'win': 329, 'loose': 671} 32.9 %\n",
      "Iter: 33 - score: {'win': 342, 'loose': 658} 34.2 %\n",
      "Iter: 34 - score: {'win': 307, 'loose': 693} 30.7 %\n",
      "Iter: 35 - score: {'win': 330, 'loose': 670} 33.0 %\n",
      "Iter: 36 - score: {'win': 337, 'loose': 663} 33.7 %\n",
      "Iter: 37 - score: {'win': 322, 'loose': 678} 32.2 %\n",
      "Iter: 38 - score: {'win': 312, 'loose': 688} 31.2 %\n",
      "Iter: 39 - score: {'win': 332, 'loose': 668} 33.2 %\n",
      "Iter: 40 - score: {'win': 315, 'loose': 685} 31.5 %\n",
      "Iter: 41 - score: {'win': 310, 'loose': 690} 31.0 %\n",
      "Iter: 42 - score: {'win': 355, 'loose': 645} 35.5 %\n",
      "Iter: 43 - score: {'win': 318, 'loose': 682} 31.8 %\n",
      "Iter: 44 - score: {'win': 340, 'loose': 660} 34.0 %\n",
      "Iter: 45 - score: {'win': 331, 'loose': 669} 33.1 %\n",
      "Iter: 46 - score: {'win': 324, 'loose': 676} 32.4 %\n",
      "Iter: 47 - score: {'win': 316, 'loose': 684} 31.6 %\n",
      "Iter: 48 - score: {'win': 328, 'loose': 672} 32.8 %\n",
      "Iter: 49 - score: {'win': 347, 'loose': 653} 34.7 %\n",
      "Iter: 50 - score: {'win': 306, 'loose': 694} 30.6 %\n",
      "Iter: 51 - score: {'win': 364, 'loose': 636} 36.4 %\n",
      "Iter: 52 - score: {'win': 305, 'loose': 695} 30.5 %\n",
      "Iter: 53 - score: {'win': 329, 'loose': 671} 32.9 %\n",
      "Iter: 54 - score: {'win': 340, 'loose': 660} 34.0 %\n",
      "Iter: 55 - score: {'win': 348, 'loose': 652} 34.8 %\n",
      "Iter: 56 - score: {'win': 337, 'loose': 663} 33.7 %\n",
      "Iter: 57 - score: {'win': 308, 'loose': 692} 30.8 %\n",
      "Iter: 58 - score: {'win': 340, 'loose': 660} 34.0 %\n",
      "Iter: 59 - score: {'win': 346, 'loose': 654} 34.6 %\n",
      "Iter: 60 - score: {'win': 341, 'loose': 659} 34.1 %\n",
      "Iter: 61 - score: {'win': 332, 'loose': 668} 33.2 %\n",
      "Iter: 62 - score: {'win': 332, 'loose': 668} 33.2 %\n",
      "Iter: 63 - score: {'win': 352, 'loose': 648} 35.2 %\n",
      "Iter: 64 - score: {'win': 350, 'loose': 650} 35.0 %\n",
      "Iter: 65 - score: {'win': 344, 'loose': 656} 34.4 %\n",
      "Iter: 66 - score: {'win': 330, 'loose': 670} 33.0 %\n",
      "Iter: 67 - score: {'win': 338, 'loose': 662} 33.8 %\n",
      "Iter: 68 - score: {'win': 349, 'loose': 651} 34.9 %\n",
      "Iter: 69 - score: {'win': 347, 'loose': 653} 34.7 %\n",
      "Iter: 70 - score: {'win': 315, 'loose': 685} 31.5 %\n",
      "Iter: 71 - score: {'win': 313, 'loose': 687} 31.3 %\n",
      "Iter: 72 - score: {'win': 365, 'loose': 635} 36.5 %\n",
      "Iter: 73 - score: {'win': 320, 'loose': 680} 32.0 %\n",
      "Iter: 74 - score: {'win': 321, 'loose': 679} 32.1 %\n",
      "Iter: 75 - score: {'win': 350, 'loose': 650} 35.0 %\n",
      "Iter: 76 - score: {'win': 299, 'loose': 701} 29.9 %\n",
      "Iter: 77 - score: {'win': 318, 'loose': 682} 31.8 %\n",
      "Iter: 78 - score: {'win': 368, 'loose': 632} 36.8 %\n",
      "Iter: 79 - score: {'win': 324, 'loose': 676} 32.4 %\n",
      "Iter: 80 - score: {'win': 345, 'loose': 655} 34.5 %\n",
      "Iter: 81 - score: {'win': 310, 'loose': 690} 31.0 %\n",
      "Iter: 82 - score: {'win': 321, 'loose': 679} 32.1 %\n",
      "Iter: 83 - score: {'win': 318, 'loose': 682} 31.8 %\n",
      "Iter: 84 - score: {'win': 335, 'loose': 665} 33.5 %\n",
      "Iter: 85 - score: {'win': 338, 'loose': 662} 33.8 %\n",
      "Iter: 86 - score: {'win': 334, 'loose': 666} 33.4 %\n",
      "Iter: 87 - score: {'win': 357, 'loose': 643} 35.7 %\n",
      "Iter: 88 - score: {'win': 358, 'loose': 642} 35.8 %\n",
      "Iter: 89 - score: {'win': 313, 'loose': 687} 31.3 %\n",
      "Iter: 90 - score: {'win': 348, 'loose': 652} 34.8 %\n",
      "Iter: 91 - score: {'win': 319, 'loose': 681} 31.9 %\n",
      "Iter: 92 - score: {'win': 340, 'loose': 660} 34.0 %\n",
      "Iter: 93 - score: {'win': 337, 'loose': 663} 33.7 %\n",
      "Iter: 94 - score: {'win': 329, 'loose': 671} 32.9 %\n",
      "Iter: 95 - score: {'win': 347, 'loose': 653} 34.7 %\n",
      "Iter: 96 - score: {'win': 340, 'loose': 660} 34.0 %\n",
      "Iter: 97 - score: {'win': 334, 'loose': 666} 33.4 %\n",
      "Iter: 98 - score: {'win': 309, 'loose': 691} 30.9 %\n",
      "Iter: 99 - score: {'win': 370, 'loose': 630} 37.0 %\n",
      "Iter: 100 - score: {'win': 328, 'loose': 672} 32.8 %\n",
      "Iter: 101 - score: {'win': 348, 'loose': 652} 34.8 %\n",
      "Iter: 102 - score: {'win': 340, 'loose': 660} 34.0 %\n",
      "Iter: 103 - score: {'win': 360, 'loose': 640} 36.0 %\n",
      "Iter: 104 - score: {'win': 334, 'loose': 666} 33.4 %\n",
      "Iter: 105 - score: {'win': 315, 'loose': 685} 31.5 %\n",
      "Iter: 106 - score: {'win': 324, 'loose': 676} 32.4 %\n",
      "Iter: 107 - score: {'win': 318, 'loose': 682} 31.8 %\n",
      "Iter: 108 - score: {'win': 356, 'loose': 644} 35.6 %\n",
      "Iter: 109 - score: {'win': 371, 'loose': 629} 37.1 %\n",
      "Iter: 110 - score: {'win': 303, 'loose': 697} 30.3 %\n",
      "Iter: 111 - score: {'win': 325, 'loose': 675} 32.5 %\n",
      "Iter: 112 - score: {'win': 325, 'loose': 675} 32.5 %\n",
      "Iter: 113 - score: {'win': 347, 'loose': 653} 34.7 %\n",
      "Iter: 114 - score: {'win': 312, 'loose': 688} 31.2 %\n",
      "Iter: 115 - score: {'win': 334, 'loose': 666} 33.4 %\n",
      "Iter: 116 - score: {'win': 341, 'loose': 659} 34.1 %\n",
      "Iter: 117 - score: {'win': 346, 'loose': 654} 34.6 %\n",
      "Iter: 118 - score: {'win': 349, 'loose': 651} 34.9 %\n",
      "Iter: 119 - score: {'win': 335, 'loose': 665} 33.5 %\n",
      "Iter: 120 - score: {'win': 337, 'loose': 663} 33.7 %\n",
      "Iter: 121 - score: {'win': 349, 'loose': 651} 34.9 %\n",
      "Iter: 122 - score: {'win': 339, 'loose': 661} 33.9 %\n",
      "Iter: 123 - score: {'win': 351, 'loose': 649} 35.1 %\n",
      "Iter: 124 - score: {'win': 341, 'loose': 659} 34.1 %\n",
      "Iter: 125 - score: {'win': 317, 'loose': 683} 31.7 %\n",
      "Iter: 126 - score: {'win': 315, 'loose': 685} 31.5 %\n",
      "Iter: 127 - score: {'win': 326, 'loose': 674} 32.6 %\n",
      "Iter: 128 - score: {'win': 300, 'loose': 700} 30.0 %\n",
      "Iter: 129 - score: {'win': 324, 'loose': 676} 32.4 %\n",
      "Iter: 130 - score: {'win': 349, 'loose': 651} 34.9 %\n",
      "Iter: 131 - score: {'win': 329, 'loose': 671} 32.9 %\n",
      "Iter: 132 - score: {'win': 326, 'loose': 674} 32.6 %\n",
      "Iter: 133 - score: {'win': 314, 'loose': 686} 31.4 %\n",
      "Iter: 134 - score: {'win': 309, 'loose': 691} 30.9 %\n",
      "Iter: 135 - score: {'win': 365, 'loose': 635} 36.5 %\n",
      "Iter: 136 - score: {'win': 340, 'loose': 660} 34.0 %\n",
      "Iter: 137 - score: {'win': 350, 'loose': 650} 35.0 %\n",
      "Iter: 138 - score: {'win': 339, 'loose': 661} 33.9 %\n",
      "Iter: 139 - score: {'win': 338, 'loose': 662} 33.8 %\n",
      "Iter: 140 - score: {'win': 329, 'loose': 671} 32.9 %\n",
      "Iter: 141 - score: {'win': 332, 'loose': 668} 33.2 %\n",
      "Iter: 142 - score: {'win': 350, 'loose': 650} 35.0 %\n",
      "Iter: 143 - score: {'win': 346, 'loose': 654} 34.6 %\n",
      "Iter: 144 - score: {'win': 348, 'loose': 652} 34.8 %\n",
      "Iter: 145 - score: {'win': 343, 'loose': 657} 34.3 %\n",
      "Iter: 146 - score: {'win': 306, 'loose': 694} 30.6 %\n",
      "Iter: 147 - score: {'win': 343, 'loose': 657} 34.3 %\n",
      "Iter: 148 - score: {'win': 335, 'loose': 665} 33.5 %\n",
      "Iter: 149 - score: {'win': 343, 'loose': 657} 34.3 %\n",
      "Iter: 150 - score: {'win': 340, 'loose': 660} 34.0 %\n",
      "Iter: 151 - score: {'win': 353, 'loose': 647} 35.3 %\n",
      "Iter: 152 - score: {'win': 316, 'loose': 684} 31.6 %\n",
      "Iter: 153 - score: {'win': 320, 'loose': 680} 32.0 %\n",
      "Iter: 154 - score: {'win': 345, 'loose': 655} 34.5 %\n",
      "Iter: 155 - score: {'win': 331, 'loose': 669} 33.1 %\n",
      "Iter: 156 - score: {'win': 331, 'loose': 669} 33.1 %\n",
      "Iter: 157 - score: {'win': 339, 'loose': 661} 33.9 %\n"
     ]
    },
    {
     "name": "stdout",
     "output_type": "stream",
     "text": [
      "Iter: 158 - score: {'win': 319, 'loose': 681} 31.9 %\n",
      "Iter: 159 - score: {'win': 328, 'loose': 672} 32.8 %\n",
      "Iter: 160 - score: {'win': 323, 'loose': 677} 32.3 %\n",
      "Iter: 161 - score: {'win': 309, 'loose': 691} 30.9 %\n",
      "Iter: 162 - score: {'win': 343, 'loose': 657} 34.3 %\n",
      "Iter: 163 - score: {'win': 333, 'loose': 667} 33.3 %\n",
      "Iter: 164 - score: {'win': 325, 'loose': 675} 32.5 %\n",
      "Iter: 165 - score: {'win': 331, 'loose': 669} 33.1 %\n",
      "Iter: 166 - score: {'win': 350, 'loose': 650} 35.0 %\n",
      "Iter: 167 - score: {'win': 328, 'loose': 672} 32.8 %\n",
      "Iter: 168 - score: {'win': 305, 'loose': 695} 30.5 %\n",
      "Iter: 169 - score: {'win': 325, 'loose': 675} 32.5 %\n",
      "Iter: 170 - score: {'win': 346, 'loose': 654} 34.6 %\n",
      "Iter: 171 - score: {'win': 341, 'loose': 659} 34.1 %\n",
      "Iter: 172 - score: {'win': 349, 'loose': 651} 34.9 %\n",
      "Iter: 173 - score: {'win': 327, 'loose': 673} 32.7 %\n",
      "Iter: 174 - score: {'win': 315, 'loose': 685} 31.5 %\n",
      "Iter: 175 - score: {'win': 346, 'loose': 654} 34.6 %\n",
      "Iter: 176 - score: {'win': 340, 'loose': 660} 34.0 %\n",
      "Iter: 177 - score: {'win': 318, 'loose': 682} 31.8 %\n",
      "Iter: 178 - score: {'win': 307, 'loose': 693} 30.7 %\n",
      "Iter: 179 - score: {'win': 316, 'loose': 684} 31.6 %\n",
      "Iter: 180 - score: {'win': 304, 'loose': 696} 30.4 %\n",
      "Iter: 181 - score: {'win': 333, 'loose': 667} 33.3 %\n",
      "Iter: 182 - score: {'win': 341, 'loose': 659} 34.1 %\n",
      "Iter: 183 - score: {'win': 311, 'loose': 689} 31.1 %\n",
      "Iter: 184 - score: {'win': 334, 'loose': 666} 33.4 %\n",
      "Iter: 185 - score: {'win': 318, 'loose': 682} 31.8 %\n",
      "Iter: 186 - score: {'win': 326, 'loose': 674} 32.6 %\n",
      "Iter: 187 - score: {'win': 320, 'loose': 680} 32.0 %\n",
      "Iter: 188 - score: {'win': 310, 'loose': 690} 31.0 %\n",
      "Iter: 189 - score: {'win': 308, 'loose': 692} 30.8 %\n",
      "Iter: 190 - score: {'win': 352, 'loose': 648} 35.2 %\n",
      "Iter: 191 - score: {'win': 313, 'loose': 687} 31.3 %\n",
      "Iter: 192 - score: {'win': 347, 'loose': 653} 34.7 %\n",
      "Iter: 193 - score: {'win': 323, 'loose': 677} 32.3 %\n",
      "Iter: 194 - score: {'win': 334, 'loose': 666} 33.4 %\n",
      "Iter: 195 - score: {'win': 321, 'loose': 679} 32.1 %\n",
      "Iter: 196 - score: {'win': 348, 'loose': 652} 34.8 %\n",
      "Iter: 197 - score: {'win': 314, 'loose': 686} 31.4 %\n",
      "Iter: 198 - score: {'win': 308, 'loose': 692} 30.8 %\n",
      "Iter: 199 - score: {'win': 330, 'loose': 670} 33.0 %\n",
      "Iter: 200 - score: {'win': 358, 'loose': 642} 35.8 %\n",
      "Iter: 201 - score: {'win': 335, 'loose': 665} 33.5 %\n",
      "Iter: 202 - score: {'win': 349, 'loose': 651} 34.9 %\n",
      "Iter: 203 - score: {'win': 321, 'loose': 679} 32.1 %\n",
      "Iter: 204 - score: {'win': 332, 'loose': 668} 33.2 %\n",
      "Iter: 205 - score: {'win': 319, 'loose': 681} 31.9 %\n",
      "Iter: 206 - score: {'win': 304, 'loose': 696} 30.4 %\n",
      "Iter: 207 - score: {'win': 319, 'loose': 681} 31.9 %\n",
      "Iter: 208 - score: {'win': 319, 'loose': 681} 31.9 %\n",
      "Iter: 209 - score: {'win': 317, 'loose': 683} 31.7 %\n",
      "Iter: 210 - score: {'win': 324, 'loose': 676} 32.4 %\n",
      "Iter: 211 - score: {'win': 332, 'loose': 668} 33.2 %\n",
      "Iter: 212 - score: {'win': 326, 'loose': 674} 32.6 %\n",
      "Iter: 213 - score: {'win': 337, 'loose': 663} 33.7 %\n",
      "Iter: 214 - score: {'win': 339, 'loose': 661} 33.9 %\n",
      "Iter: 215 - score: {'win': 305, 'loose': 695} 30.5 %\n",
      "Iter: 216 - score: {'win': 327, 'loose': 673} 32.7 %\n",
      "Iter: 217 - score: {'win': 356, 'loose': 644} 35.6 %\n",
      "Iter: 218 - score: {'win': 353, 'loose': 647} 35.3 %\n",
      "Iter: 219 - score: {'win': 353, 'loose': 647} 35.3 %\n",
      "Iter: 220 - score: {'win': 317, 'loose': 683} 31.7 %\n",
      "Iter: 221 - score: {'win': 317, 'loose': 683} 31.7 %\n",
      "Iter: 222 - score: {'win': 331, 'loose': 669} 33.1 %\n",
      "Iter: 223 - score: {'win': 351, 'loose': 649} 35.1 %\n",
      "Iter: 224 - score: {'win': 312, 'loose': 688} 31.2 %\n",
      "Iter: 225 - score: {'win': 340, 'loose': 660} 34.0 %\n",
      "Iter: 226 - score: {'win': 344, 'loose': 656} 34.4 %\n",
      "Iter: 227 - score: {'win': 338, 'loose': 662} 33.8 %\n",
      "Iter: 228 - score: {'win': 322, 'loose': 678} 32.2 %\n",
      "Iter: 229 - score: {'win': 318, 'loose': 682} 31.8 %\n",
      "Iter: 230 - score: {'win': 339, 'loose': 661} 33.9 %\n",
      "Iter: 231 - score: {'win': 347, 'loose': 653} 34.7 %\n",
      "Iter: 232 - score: {'win': 352, 'loose': 648} 35.2 %\n",
      "Iter: 233 - score: {'win': 349, 'loose': 651} 34.9 %\n",
      "Iter: 234 - score: {'win': 355, 'loose': 645} 35.5 %\n",
      "Iter: 235 - score: {'win': 339, 'loose': 661} 33.9 %\n",
      "Iter: 236 - score: {'win': 323, 'loose': 677} 32.3 %\n",
      "Iter: 237 - score: {'win': 313, 'loose': 687} 31.3 %\n",
      "Iter: 238 - score: {'win': 345, 'loose': 655} 34.5 %\n",
      "Iter: 239 - score: {'win': 329, 'loose': 671} 32.9 %\n",
      "Iter: 240 - score: {'win': 290, 'loose': 710} 29.0 %\n",
      "Iter: 241 - score: {'win': 322, 'loose': 678} 32.2 %\n",
      "Iter: 242 - score: {'win': 336, 'loose': 664} 33.6 %\n",
      "Iter: 243 - score: {'win': 358, 'loose': 642} 35.8 %\n",
      "Iter: 244 - score: {'win': 306, 'loose': 694} 30.6 %\n",
      "Iter: 245 - score: {'win': 341, 'loose': 659} 34.1 %\n",
      "Iter: 246 - score: {'win': 332, 'loose': 668} 33.2 %\n",
      "Iter: 247 - score: {'win': 353, 'loose': 647} 35.3 %\n",
      "Iter: 248 - score: {'win': 337, 'loose': 663} 33.7 %\n",
      "Iter: 249 - score: {'win': 332, 'loose': 668} 33.2 %\n",
      "Iter: 250 - score: {'win': 319, 'loose': 681} 31.9 %\n",
      "Iter: 251 - score: {'win': 319, 'loose': 681} 31.9 %\n",
      "Iter: 252 - score: {'win': 343, 'loose': 657} 34.3 %\n",
      "Iter: 253 - score: {'win': 327, 'loose': 673} 32.7 %\n",
      "Iter: 254 - score: {'win': 331, 'loose': 669} 33.1 %\n",
      "Iter: 255 - score: {'win': 350, 'loose': 650} 35.0 %\n",
      "Iter: 256 - score: {'win': 327, 'loose': 673} 32.7 %\n",
      "Iter: 257 - score: {'win': 350, 'loose': 650} 35.0 %\n",
      "Iter: 258 - score: {'win': 336, 'loose': 664} 33.6 %\n",
      "Iter: 259 - score: {'win': 335, 'loose': 665} 33.5 %\n",
      "Iter: 260 - score: {'win': 317, 'loose': 683} 31.7 %\n",
      "Iter: 261 - score: {'win': 309, 'loose': 691} 30.9 %\n",
      "Iter: 262 - score: {'win': 319, 'loose': 681} 31.9 %\n",
      "Iter: 263 - score: {'win': 345, 'loose': 655} 34.5 %\n",
      "Iter: 264 - score: {'win': 321, 'loose': 679} 32.1 %\n",
      "Iter: 265 - score: {'win': 334, 'loose': 666} 33.4 %\n",
      "Iter: 266 - score: {'win': 333, 'loose': 667} 33.3 %\n",
      "Iter: 267 - score: {'win': 331, 'loose': 669} 33.1 %\n",
      "Iter: 268 - score: {'win': 342, 'loose': 658} 34.2 %\n",
      "Iter: 269 - score: {'win': 328, 'loose': 672} 32.8 %\n",
      "Iter: 270 - score: {'win': 342, 'loose': 658} 34.2 %\n",
      "Iter: 271 - score: {'win': 330, 'loose': 670} 33.0 %\n",
      "Iter: 272 - score: {'win': 331, 'loose': 669} 33.1 %\n",
      "Iter: 273 - score: {'win': 325, 'loose': 675} 32.5 %\n",
      "Iter: 274 - score: {'win': 327, 'loose': 673} 32.7 %\n",
      "Iter: 275 - score: {'win': 302, 'loose': 698} 30.2 %\n",
      "Iter: 276 - score: {'win': 349, 'loose': 651} 34.9 %\n",
      "Iter: 277 - score: {'win': 350, 'loose': 650} 35.0 %\n",
      "Iter: 278 - score: {'win': 322, 'loose': 678} 32.2 %\n",
      "Iter: 279 - score: {'win': 349, 'loose': 651} 34.9 %\n",
      "Iter: 280 - score: {'win': 351, 'loose': 649} 35.1 %\n",
      "Iter: 281 - score: {'win': 327, 'loose': 673} 32.7 %\n",
      "Iter: 282 - score: {'win': 325, 'loose': 675} 32.5 %\n",
      "Iter: 283 - score: {'win': 340, 'loose': 660} 34.0 %\n",
      "Iter: 284 - score: {'win': 347, 'loose': 653} 34.7 %\n",
      "Iter: 285 - score: {'win': 327, 'loose': 673} 32.7 %\n",
      "Iter: 286 - score: {'win': 351, 'loose': 649} 35.1 %\n",
      "Iter: 287 - score: {'win': 319, 'loose': 681} 31.9 %\n",
      "Iter: 288 - score: {'win': 342, 'loose': 658} 34.2 %\n",
      "Iter: 289 - score: {'win': 334, 'loose': 666} 33.4 %\n",
      "Iter: 290 - score: {'win': 324, 'loose': 676} 32.4 %\n",
      "Iter: 291 - score: {'win': 325, 'loose': 675} 32.5 %\n",
      "Iter: 292 - score: {'win': 308, 'loose': 692} 30.8 %\n",
      "Iter: 293 - score: {'win': 322, 'loose': 678} 32.2 %\n",
      "Iter: 294 - score: {'win': 315, 'loose': 685} 31.5 %\n",
      "Iter: 295 - score: {'win': 329, 'loose': 671} 32.9 %\n",
      "Iter: 296 - score: {'win': 324, 'loose': 676} 32.4 %\n",
      "Iter: 297 - score: {'win': 320, 'loose': 680} 32.0 %\n",
      "Iter: 298 - score: {'win': 357, 'loose': 643} 35.7 %\n",
      "Iter: 299 - score: {'win': 325, 'loose': 675} 32.5 %\n",
      "Iter: 300 - score: {'win': 304, 'loose': 696} 30.4 %\n",
      "Iter: 301 - score: {'win': 350, 'loose': 650} 35.0 %\n",
      "Iter: 302 - score: {'win': 324, 'loose': 676} 32.4 %\n",
      "Iter: 303 - score: {'win': 334, 'loose': 666} 33.4 %\n",
      "Iter: 304 - score: {'win': 348, 'loose': 652} 34.8 %\n",
      "Iter: 305 - score: {'win': 324, 'loose': 676} 32.4 %\n",
      "Iter: 306 - score: {'win': 347, 'loose': 653} 34.7 %\n",
      "Iter: 307 - score: {'win': 350, 'loose': 650} 35.0 %\n",
      "Iter: 308 - score: {'win': 331, 'loose': 669} 33.1 %\n",
      "Iter: 309 - score: {'win': 310, 'loose': 690} 31.0 %\n",
      "Iter: 310 - score: {'win': 367, 'loose': 633} 36.7 %\n",
      "Iter: 311 - score: {'win': 333, 'loose': 667} 33.3 %\n"
     ]
    },
    {
     "name": "stdout",
     "output_type": "stream",
     "text": [
      "Iter: 312 - score: {'win': 328, 'loose': 672} 32.8 %\n",
      "Iter: 313 - score: {'win': 322, 'loose': 678} 32.2 %\n",
      "Iter: 314 - score: {'win': 327, 'loose': 673} 32.7 %\n",
      "Iter: 315 - score: {'win': 312, 'loose': 688} 31.2 %\n",
      "Iter: 316 - score: {'win': 316, 'loose': 684} 31.6 %\n",
      "Iter: 317 - score: {'win': 326, 'loose': 674} 32.6 %\n",
      "Iter: 318 - score: {'win': 344, 'loose': 656} 34.4 %\n",
      "Iter: 319 - score: {'win': 326, 'loose': 674} 32.6 %\n",
      "Iter: 320 - score: {'win': 337, 'loose': 663} 33.7 %\n",
      "Iter: 321 - score: {'win': 296, 'loose': 704} 29.6 %\n",
      "Iter: 322 - score: {'win': 338, 'loose': 662} 33.8 %\n",
      "Iter: 323 - score: {'win': 330, 'loose': 670} 33.0 %\n",
      "Iter: 324 - score: {'win': 340, 'loose': 660} 34.0 %\n",
      "Iter: 325 - score: {'win': 323, 'loose': 677} 32.3 %\n",
      "Iter: 326 - score: {'win': 344, 'loose': 656} 34.4 %\n",
      "Iter: 327 - score: {'win': 368, 'loose': 632} 36.8 %\n",
      "Iter: 328 - score: {'win': 332, 'loose': 668} 33.2 %\n",
      "Iter: 329 - score: {'win': 313, 'loose': 687} 31.3 %\n",
      "Iter: 330 - score: {'win': 345, 'loose': 655} 34.5 %\n",
      "Iter: 331 - score: {'win': 331, 'loose': 669} 33.1 %\n",
      "Iter: 332 - score: {'win': 342, 'loose': 658} 34.2 %\n",
      "Iter: 333 - score: {'win': 345, 'loose': 655} 34.5 %\n",
      "Iter: 334 - score: {'win': 342, 'loose': 658} 34.2 %\n",
      "Iter: 335 - score: {'win': 339, 'loose': 661} 33.9 %\n",
      "Iter: 336 - score: {'win': 349, 'loose': 651} 34.9 %\n",
      "Iter: 337 - score: {'win': 316, 'loose': 684} 31.6 %\n",
      "Iter: 338 - score: {'win': 355, 'loose': 645} 35.5 %\n",
      "Iter: 339 - score: {'win': 334, 'loose': 666} 33.4 %\n",
      "Iter: 340 - score: {'win': 347, 'loose': 653} 34.7 %\n",
      "Iter: 341 - score: {'win': 358, 'loose': 642} 35.8 %\n",
      "Iter: 342 - score: {'win': 336, 'loose': 664} 33.6 %\n",
      "Iter: 343 - score: {'win': 330, 'loose': 670} 33.0 %\n",
      "Iter: 344 - score: {'win': 321, 'loose': 679} 32.1 %\n",
      "Iter: 345 - score: {'win': 326, 'loose': 674} 32.6 %\n",
      "Iter: 346 - score: {'win': 358, 'loose': 642} 35.8 %\n",
      "Iter: 347 - score: {'win': 349, 'loose': 651} 34.9 %\n",
      "Iter: 348 - score: {'win': 331, 'loose': 669} 33.1 %\n",
      "Iter: 349 - score: {'win': 383, 'loose': 617} 38.3 %\n",
      "Iter: 350 - score: {'win': 310, 'loose': 690} 31.0 %\n",
      "Iter: 351 - score: {'win': 315, 'loose': 685} 31.5 %\n",
      "Iter: 352 - score: {'win': 348, 'loose': 652} 34.8 %\n",
      "Iter: 353 - score: {'win': 324, 'loose': 676} 32.4 %\n",
      "Iter: 354 - score: {'win': 337, 'loose': 663} 33.7 %\n",
      "Iter: 355 - score: {'win': 336, 'loose': 664} 33.6 %\n",
      "Iter: 356 - score: {'win': 337, 'loose': 663} 33.7 %\n",
      "Iter: 357 - score: {'win': 341, 'loose': 659} 34.1 %\n",
      "Iter: 358 - score: {'win': 328, 'loose': 672} 32.8 %\n",
      "Iter: 359 - score: {'win': 333, 'loose': 667} 33.3 %\n",
      "Iter: 360 - score: {'win': 354, 'loose': 646} 35.4 %\n",
      "Iter: 361 - score: {'win': 331, 'loose': 669} 33.1 %\n",
      "Iter: 362 - score: {'win': 335, 'loose': 665} 33.5 %\n",
      "Iter: 363 - score: {'win': 311, 'loose': 689} 31.1 %\n",
      "Iter: 364 - score: {'win': 320, 'loose': 680} 32.0 %\n",
      "Iter: 365 - score: {'win': 349, 'loose': 651} 34.9 %\n",
      "Iter: 366 - score: {'win': 342, 'loose': 658} 34.2 %\n",
      "Iter: 367 - score: {'win': 316, 'loose': 684} 31.6 %\n",
      "Iter: 368 - score: {'win': 319, 'loose': 681} 31.9 %\n",
      "Iter: 369 - score: {'win': 358, 'loose': 642} 35.8 %\n",
      "Iter: 370 - score: {'win': 321, 'loose': 679} 32.1 %\n",
      "Iter: 371 - score: {'win': 319, 'loose': 681} 31.9 %\n",
      "Iter: 372 - score: {'win': 315, 'loose': 685} 31.5 %\n",
      "Iter: 373 - score: {'win': 335, 'loose': 665} 33.5 %\n",
      "Iter: 374 - score: {'win': 325, 'loose': 675} 32.5 %\n",
      "Iter: 375 - score: {'win': 346, 'loose': 654} 34.6 %\n",
      "Iter: 376 - score: {'win': 325, 'loose': 675} 32.5 %\n",
      "Iter: 377 - score: {'win': 343, 'loose': 657} 34.3 %\n",
      "Iter: 378 - score: {'win': 310, 'loose': 690} 31.0 %\n",
      "Iter: 379 - score: {'win': 317, 'loose': 683} 31.7 %\n",
      "Iter: 380 - score: {'win': 330, 'loose': 670} 33.0 %\n",
      "Iter: 381 - score: {'win': 323, 'loose': 677} 32.3 %\n",
      "Iter: 382 - score: {'win': 315, 'loose': 685} 31.5 %\n",
      "Iter: 383 - score: {'win': 325, 'loose': 675} 32.5 %\n",
      "Iter: 384 - score: {'win': 340, 'loose': 660} 34.0 %\n",
      "Iter: 385 - score: {'win': 341, 'loose': 659} 34.1 %\n",
      "Iter: 386 - score: {'win': 330, 'loose': 670} 33.0 %\n",
      "Iter: 387 - score: {'win': 329, 'loose': 671} 32.9 %\n",
      "Iter: 388 - score: {'win': 351, 'loose': 649} 35.1 %\n",
      "Iter: 389 - score: {'win': 315, 'loose': 685} 31.5 %\n",
      "Iter: 390 - score: {'win': 350, 'loose': 650} 35.0 %\n",
      "Iter: 391 - score: {'win': 342, 'loose': 658} 34.2 %\n",
      "Iter: 392 - score: {'win': 311, 'loose': 689} 31.1 %\n",
      "Iter: 393 - score: {'win': 335, 'loose': 665} 33.5 %\n",
      "Iter: 394 - score: {'win': 347, 'loose': 653} 34.7 %\n",
      "Iter: 395 - score: {'win': 351, 'loose': 649} 35.1 %\n",
      "Iter: 396 - score: {'win': 355, 'loose': 645} 35.5 %\n",
      "Iter: 397 - score: {'win': 330, 'loose': 670} 33.0 %\n",
      "Iter: 398 - score: {'win': 315, 'loose': 685} 31.5 %\n",
      "Iter: 399 - score: {'win': 335, 'loose': 665} 33.5 %\n",
      "Iter: 400 - score: {'win': 339, 'loose': 661} 33.9 %\n",
      "Iter: 401 - score: {'win': 344, 'loose': 656} 34.4 %\n",
      "Iter: 402 - score: {'win': 362, 'loose': 638} 36.2 %\n",
      "Iter: 403 - score: {'win': 349, 'loose': 651} 34.9 %\n",
      "Iter: 404 - score: {'win': 321, 'loose': 679} 32.1 %\n",
      "Iter: 405 - score: {'win': 347, 'loose': 653} 34.7 %\n",
      "Iter: 406 - score: {'win': 332, 'loose': 668} 33.2 %\n"
     ]
    },
    {
     "ename": "KeyboardInterrupt",
     "evalue": "",
     "output_type": "error",
     "traceback": [
      "\u001b[1;31m---------------------------------------------------------------------------\u001b[0m",
      "\u001b[1;31mKeyboardInterrupt\u001b[0m                         Traceback (most recent call last)",
      "\u001b[1;32m<ipython-input-73-3894acb1bd8b>\u001b[0m in \u001b[0;36m<module>\u001b[1;34m()\u001b[0m\n\u001b[0;32m      3\u001b[0m \u001b[1;32mwhile\u001b[0m \u001b[1;32mTrue\u001b[0m\u001b[1;33m:\u001b[0m\u001b[1;33m\u001b[0m\u001b[0m\n\u001b[0;32m      4\u001b[0m     \u001b[0mi\u001b[0m\u001b[1;33m+=\u001b[0m\u001b[1;36m1\u001b[0m\u001b[1;33m\u001b[0m\u001b[0m\n\u001b[1;32m----> 5\u001b[1;33m     \u001b[0mscore\u001b[0m\u001b[1;33m,\u001b[0m \u001b[0mdata_X\u001b[0m\u001b[1;33m,\u001b[0m \u001b[0mdata_y\u001b[0m \u001b[1;33m=\u001b[0m \u001b[0mplay_and_learn\u001b[0m\u001b[1;33m(\u001b[0m\u001b[1;36m1000\u001b[0m\u001b[1;33m,\u001b[0m \u001b[0mdebug\u001b[0m\u001b[1;33m=\u001b[0m\u001b[1;32mFalse\u001b[0m\u001b[1;33m)\u001b[0m\u001b[1;33m\u001b[0m\u001b[0m\n\u001b[0m\u001b[0;32m      6\u001b[0m     \u001b[0mpct\u001b[0m \u001b[1;33m=\u001b[0m \u001b[1;33m(\u001b[0m\u001b[0mscore\u001b[0m\u001b[1;33m[\u001b[0m\u001b[1;34m\"win\"\u001b[0m\u001b[1;33m]\u001b[0m\u001b[1;33m*\u001b[0m\u001b[1;36m100\u001b[0m\u001b[1;33m/\u001b[0m\u001b[1;33m(\u001b[0m\u001b[0mscore\u001b[0m\u001b[1;33m[\u001b[0m\u001b[1;34m\"win\"\u001b[0m\u001b[1;33m]\u001b[0m\u001b[1;33m+\u001b[0m\u001b[0mscore\u001b[0m\u001b[1;33m[\u001b[0m\u001b[1;34m\"loose\"\u001b[0m\u001b[1;33m]\u001b[0m\u001b[1;33m)\u001b[0m\u001b[1;33m)\u001b[0m \u001b[1;31m# win*100/total <- percentage\u001b[0m\u001b[1;33m\u001b[0m\u001b[0m\n\u001b[0;32m      7\u001b[0m     \u001b[0mhistoric_pct\u001b[0m\u001b[1;33m.\u001b[0m\u001b[0mappend\u001b[0m\u001b[1;33m(\u001b[0m\u001b[0mpct\u001b[0m\u001b[1;33m)\u001b[0m\u001b[1;33m\u001b[0m\u001b[0m\n",
      "\u001b[1;32m<ipython-input-71-be09d8fe3f67>\u001b[0m in \u001b[0;36mplay_and_learn\u001b[1;34m(iters, debug)\u001b[0m\n\u001b[0;32m     10\u001b[0m \u001b[1;33m\u001b[0m\u001b[0m\n\u001b[0;32m     11\u001b[0m         \u001b[1;31m# you get the weight of each probability that occurs in each iteration\u001b[0m\u001b[1;33m\u001b[0m\u001b[1;33m\u001b[0m\u001b[0m\n\u001b[1;32m---> 12\u001b[1;33m         \u001b[0mpredict\u001b[0m \u001b[1;33m=\u001b[0m \u001b[0mmodel\u001b[0m\u001b[1;33m.\u001b[0m\u001b[0mpredict_proba\u001b[0m\u001b[1;33m(\u001b[0m\u001b[1;33m[\u001b[0m\u001b[0mstr_to_list\u001b[0m\u001b[1;33m(\u001b[0m\u001b[0mplayer1\u001b[0m\u001b[1;33m)\u001b[0m\u001b[1;33m]\u001b[0m\u001b[1;33m)\u001b[0m\u001b[1;33m[\u001b[0m\u001b[1;36m0\u001b[0m\u001b[1;33m]\u001b[0m\u001b[1;33m\u001b[0m\u001b[0m\n\u001b[0m\u001b[0;32m     13\u001b[0m \u001b[1;33m\u001b[0m\u001b[0m\n\u001b[0;32m     14\u001b[0m         \u001b[1;31m#predictSumatoria+=predict\u001b[0m\u001b[1;33m\u001b[0m\u001b[1;33m\u001b[0m\u001b[0m\n",
      "\u001b[1;32m~\\Anaconda3\\lib\\site-packages\\sklearn\\neural_network\\multilayer_perceptron.py\u001b[0m in \u001b[0;36mpredict_proba\u001b[1;34m(self, X)\u001b[0m\n\u001b[0;32m   1048\u001b[0m         \"\"\"\n\u001b[0;32m   1049\u001b[0m         \u001b[0mcheck_is_fitted\u001b[0m\u001b[1;33m(\u001b[0m\u001b[0mself\u001b[0m\u001b[1;33m,\u001b[0m \u001b[1;34m\"coefs_\"\u001b[0m\u001b[1;33m)\u001b[0m\u001b[1;33m\u001b[0m\u001b[0m\n\u001b[1;32m-> 1050\u001b[1;33m         \u001b[0my_pred\u001b[0m \u001b[1;33m=\u001b[0m \u001b[0mself\u001b[0m\u001b[1;33m.\u001b[0m\u001b[0m_predict\u001b[0m\u001b[1;33m(\u001b[0m\u001b[0mX\u001b[0m\u001b[1;33m)\u001b[0m\u001b[1;33m\u001b[0m\u001b[0m\n\u001b[0m\u001b[0;32m   1051\u001b[0m \u001b[1;33m\u001b[0m\u001b[0m\n\u001b[0;32m   1052\u001b[0m         \u001b[1;32mif\u001b[0m \u001b[0mself\u001b[0m\u001b[1;33m.\u001b[0m\u001b[0mn_outputs_\u001b[0m \u001b[1;33m==\u001b[0m \u001b[1;36m1\u001b[0m\u001b[1;33m:\u001b[0m\u001b[1;33m\u001b[0m\u001b[0m\n",
      "\u001b[1;32m~\\Anaconda3\\lib\\site-packages\\sklearn\\neural_network\\multilayer_perceptron.py\u001b[0m in \u001b[0;36m_predict\u001b[1;34m(self, X)\u001b[0m\n\u001b[0;32m    676\u001b[0m                                          layer_units[i + 1])))\n\u001b[0;32m    677\u001b[0m         \u001b[1;31m# forward propagate\u001b[0m\u001b[1;33m\u001b[0m\u001b[1;33m\u001b[0m\u001b[0m\n\u001b[1;32m--> 678\u001b[1;33m         \u001b[0mself\u001b[0m\u001b[1;33m.\u001b[0m\u001b[0m_forward_pass\u001b[0m\u001b[1;33m(\u001b[0m\u001b[0mactivations\u001b[0m\u001b[1;33m)\u001b[0m\u001b[1;33m\u001b[0m\u001b[0m\n\u001b[0m\u001b[0;32m    679\u001b[0m         \u001b[0my_pred\u001b[0m \u001b[1;33m=\u001b[0m \u001b[0mactivations\u001b[0m\u001b[1;33m[\u001b[0m\u001b[1;33m-\u001b[0m\u001b[1;36m1\u001b[0m\u001b[1;33m]\u001b[0m\u001b[1;33m\u001b[0m\u001b[0m\n\u001b[0;32m    680\u001b[0m \u001b[1;33m\u001b[0m\u001b[0m\n",
      "\u001b[1;32m~\\Anaconda3\\lib\\site-packages\\sklearn\\neural_network\\multilayer_perceptron.py\u001b[0m in \u001b[0;36m_forward_pass\u001b[1;34m(self, activations)\u001b[0m\n\u001b[0;32m    103\u001b[0m         \u001b[1;32mfor\u001b[0m \u001b[0mi\u001b[0m \u001b[1;32min\u001b[0m \u001b[0mrange\u001b[0m\u001b[1;33m(\u001b[0m\u001b[0mself\u001b[0m\u001b[1;33m.\u001b[0m\u001b[0mn_layers_\u001b[0m \u001b[1;33m-\u001b[0m \u001b[1;36m1\u001b[0m\u001b[1;33m)\u001b[0m\u001b[1;33m:\u001b[0m\u001b[1;33m\u001b[0m\u001b[0m\n\u001b[0;32m    104\u001b[0m             activations[i + 1] = safe_sparse_dot(activations[i],\n\u001b[1;32m--> 105\u001b[1;33m                                                  self.coefs_[i])\n\u001b[0m\u001b[0;32m    106\u001b[0m             \u001b[0mactivations\u001b[0m\u001b[1;33m[\u001b[0m\u001b[0mi\u001b[0m \u001b[1;33m+\u001b[0m \u001b[1;36m1\u001b[0m\u001b[1;33m]\u001b[0m \u001b[1;33m+=\u001b[0m \u001b[0mself\u001b[0m\u001b[1;33m.\u001b[0m\u001b[0mintercepts_\u001b[0m\u001b[1;33m[\u001b[0m\u001b[0mi\u001b[0m\u001b[1;33m]\u001b[0m\u001b[1;33m\u001b[0m\u001b[0m\n\u001b[0;32m    107\u001b[0m \u001b[1;33m\u001b[0m\u001b[0m\n",
      "\u001b[1;32m~\\Anaconda3\\lib\\site-packages\\sklearn\\utils\\extmath.py\u001b[0m in \u001b[0;36msafe_sparse_dot\u001b[1;34m(a, b, dense_output)\u001b[0m\n\u001b[0;32m    138\u001b[0m         \u001b[1;32mreturn\u001b[0m \u001b[0mret\u001b[0m\u001b[1;33m\u001b[0m\u001b[0m\n\u001b[0;32m    139\u001b[0m     \u001b[1;32melse\u001b[0m\u001b[1;33m:\u001b[0m\u001b[1;33m\u001b[0m\u001b[0m\n\u001b[1;32m--> 140\u001b[1;33m         \u001b[1;32mreturn\u001b[0m \u001b[0mnp\u001b[0m\u001b[1;33m.\u001b[0m\u001b[0mdot\u001b[0m\u001b[1;33m(\u001b[0m\u001b[0ma\u001b[0m\u001b[1;33m,\u001b[0m \u001b[0mb\u001b[0m\u001b[1;33m)\u001b[0m\u001b[1;33m\u001b[0m\u001b[0m\n\u001b[0m\u001b[0;32m    141\u001b[0m \u001b[1;33m\u001b[0m\u001b[0m\n\u001b[0;32m    142\u001b[0m \u001b[1;33m\u001b[0m\u001b[0m\n",
      "\u001b[1;31mKeyboardInterrupt\u001b[0m: "
     ]
    }
   ],
   "source": [
    "i = 0\n",
    "historic_pct = []\n",
    "while True: \n",
    "    i+=1\n",
    "    score, data_X, data_y = play_and_learn(1000, debug=False)\n",
    "    pct = (score[\"win\"]*100/(score[\"win\"]+score[\"loose\"])) # win*100/total <- percentage\n",
    "    historic_pct.append(pct)\n",
    "    print(\"Iter: %s - score: %s %s %%\" % (i, score, pct))\n",
    "    \n",
    "    if len(data_X):\n",
    "        model = model.partial_fit(data_X, data_y)\n",
    "    \n",
    "    if sum(historic_pct[-9:])==900:\n",
    "        break\n"
   ]
  },
  {
   "cell_type": "code",
   "execution_count": null,
   "metadata": {},
   "outputs": [],
   "source": [
    "from bokeh.plotting import figure, show\n",
    "from bokeh.io import push_notebook, show, output_notebook\n",
    "output_notebook()\n"
   ]
  },
  {
   "cell_type": "code",
   "execution_count": 57,
   "metadata": {},
   "outputs": [
    {
     "data": {
      "text/html": [
       "\n",
       "<div class=\"bk-root\">\n",
       "    <div class=\"bk-plotdiv\" id=\"c389f5e8-7275-4fad-a991-7abc94a674ef\"></div>\n",
       "</div>"
      ]
     },
     "metadata": {},
     "output_type": "display_data"
    },
    {
     "data": {
      "application/javascript": [
       "(function(root) {\n",
       "  function embed_document(root) {\n",
       "    var docs_json = {\"3468b5fd-3629-485f-ac9d-a6e2c5328254\":{\"roots\":{\"references\":[{\"attributes\":{\"line_alpha\":{\"value\":0.1},\"line_color\":{\"value\":\"#1f77b4\"},\"line_width\":{\"value\":3},\"x\":{\"field\":\"x\"},\"y\":{\"field\":\"y\"}},\"id\":\"aa4a441e-8abb-4113-bc6e-6ef2266b8e11\",\"type\":\"Line\"},{\"attributes\":{},\"id\":\"f89b0db0-7da9-42e9-93b6-e3f792437500\",\"type\":\"LinearScale\"},{\"attributes\":{\"dimension\":1,\"plot\":{\"id\":\"aacfea74-f850-455f-9a64-fea35ccddafb\",\"subtype\":\"Figure\",\"type\":\"Plot\"},\"ticker\":{\"id\":\"c9512a28-75cf-4976-865b-10d9249c3ec5\",\"type\":\"BasicTicker\"}},\"id\":\"bc9ec8a4-e7a5-4815-9935-7fb4ea01b8a6\",\"type\":\"Grid\"},{\"attributes\":{\"axis_label\":\"Iterations\",\"formatter\":{\"id\":\"e2e59fa8-bea3-4977-9846-207c46cb4754\",\"type\":\"BasicTickFormatter\"},\"plot\":{\"id\":\"aacfea74-f850-455f-9a64-fea35ccddafb\",\"subtype\":\"Figure\",\"type\":\"Plot\"},\"ticker\":{\"id\":\"dddf97c5-49ff-4656-82da-14bd73b171e7\",\"type\":\"BasicTicker\"}},\"id\":\"43e2ef2c-5118-4d2a-bb4c-4ecaae9c7213\",\"type\":\"LinearAxis\"},{\"attributes\":{\"line_color\":{\"value\":\"red\"},\"line_width\":{\"value\":3},\"x\":{\"field\":\"x\"},\"y\":{\"field\":\"y\"}},\"id\":\"8de8c575-bf01-47c3-9d55-c5292ab67b0d\",\"type\":\"Line\"},{\"attributes\":{},\"id\":\"e2e59fa8-bea3-4977-9846-207c46cb4754\",\"type\":\"BasicTickFormatter\"},{\"attributes\":{\"overlay\":{\"id\":\"cf4a1f5f-7049-4cdb-bb5e-399516ef83b3\",\"type\":\"BoxAnnotation\"}},\"id\":\"6bf3648d-2d33-4a65-9927-e815102f39cd\",\"type\":\"BoxZoomTool\"},{\"attributes\":{\"data_source\":{\"id\":\"da362e2d-a3a2-44c7-b390-f89ed8eadd4f\",\"type\":\"ColumnDataSource\"},\"glyph\":{\"id\":\"8de8c575-bf01-47c3-9d55-c5292ab67b0d\",\"type\":\"Line\"},\"hover_glyph\":null,\"muted_glyph\":null,\"nonselection_glyph\":{\"id\":\"aa4a441e-8abb-4113-bc6e-6ef2266b8e11\",\"type\":\"Line\"},\"selection_glyph\":null,\"view\":{\"id\":\"48f57afc-e51b-4884-b91e-ce57e96f3250\",\"type\":\"CDSView\"}},\"id\":\"b500e310-61c3-4ea7-a4af-34bfea2a56d7\",\"type\":\"GlyphRenderer\"},{\"attributes\":{\"source\":{\"id\":\"da362e2d-a3a2-44c7-b390-f89ed8eadd4f\",\"type\":\"ColumnDataSource\"}},\"id\":\"48f57afc-e51b-4884-b91e-ce57e96f3250\",\"type\":\"CDSView\"},{\"attributes\":{\"active_drag\":\"auto\",\"active_inspect\":\"auto\",\"active_scroll\":\"auto\",\"active_tap\":\"auto\",\"tools\":[{\"id\":\"57786d25-219f-4e25-a466-99877dc49dd4\",\"type\":\"PanTool\"},{\"id\":\"d1336a84-39e2-4877-b4a6-6d4ab9bbe1a1\",\"type\":\"WheelZoomTool\"},{\"id\":\"6bf3648d-2d33-4a65-9927-e815102f39cd\",\"type\":\"BoxZoomTool\"},{\"id\":\"d4ac9ac0-3e68-42cb-b1f1-dc4f94e41788\",\"type\":\"SaveTool\"},{\"id\":\"6cfc4968-874e-41ed-91c7-84762a58e911\",\"type\":\"ResetTool\"},{\"id\":\"d3ad0a88-bbc6-4e49-9ed4-2df4b96e67a3\",\"type\":\"HelpTool\"}]},\"id\":\"c1b05cf6-0548-4c8d-b7f3-9a5d78cab1b7\",\"type\":\"Toolbar\"},{\"attributes\":{},\"id\":\"57786d25-219f-4e25-a466-99877dc49dd4\",\"type\":\"PanTool\"},{\"attributes\":{\"plot\":null,\"text\":\"Percentage of learning in each iteration\"},\"id\":\"386a280b-a705-4ff4-afdf-63ebc36c45ad\",\"type\":\"Title\"},{\"attributes\":{},\"id\":\"c9512a28-75cf-4976-865b-10d9249c3ec5\",\"type\":\"BasicTicker\"},{\"attributes\":{\"callback\":null},\"id\":\"c5add2cb-d3f6-4c0c-907b-5287d51eac05\",\"type\":\"DataRange1d\"},{\"attributes\":{\"bottom_units\":\"screen\",\"fill_alpha\":{\"value\":0.5},\"fill_color\":{\"value\":\"lightgrey\"},\"left_units\":\"screen\",\"level\":\"overlay\",\"line_alpha\":{\"value\":1.0},\"line_color\":{\"value\":\"black\"},\"line_dash\":[4,4],\"line_width\":{\"value\":2},\"plot\":null,\"render_mode\":\"css\",\"right_units\":\"screen\",\"top_units\":\"screen\"},\"id\":\"cf4a1f5f-7049-4cdb-bb5e-399516ef83b3\",\"type\":\"BoxAnnotation\"},{\"attributes\":{},\"id\":\"d4ac9ac0-3e68-42cb-b1f1-dc4f94e41788\",\"type\":\"SaveTool\"},{\"attributes\":{},\"id\":\"6cfc4968-874e-41ed-91c7-84762a58e911\",\"type\":\"ResetTool\"},{\"attributes\":{\"below\":[{\"id\":\"43e2ef2c-5118-4d2a-bb4c-4ecaae9c7213\",\"type\":\"LinearAxis\"}],\"left\":[{\"id\":\"3aaa6b29-a3f9-41b1-aa5a-b8a1da6e0c2f\",\"type\":\"LinearAxis\"}],\"renderers\":[{\"id\":\"43e2ef2c-5118-4d2a-bb4c-4ecaae9c7213\",\"type\":\"LinearAxis\"},{\"id\":\"6c46e544-0092-443c-bc91-1ab8d9f695b3\",\"type\":\"Grid\"},{\"id\":\"3aaa6b29-a3f9-41b1-aa5a-b8a1da6e0c2f\",\"type\":\"LinearAxis\"},{\"id\":\"bc9ec8a4-e7a5-4815-9935-7fb4ea01b8a6\",\"type\":\"Grid\"},{\"id\":\"cf4a1f5f-7049-4cdb-bb5e-399516ef83b3\",\"type\":\"BoxAnnotation\"},{\"id\":\"b500e310-61c3-4ea7-a4af-34bfea2a56d7\",\"type\":\"GlyphRenderer\"}],\"title\":{\"id\":\"386a280b-a705-4ff4-afdf-63ebc36c45ad\",\"type\":\"Title\"},\"toolbar\":{\"id\":\"c1b05cf6-0548-4c8d-b7f3-9a5d78cab1b7\",\"type\":\"Toolbar\"},\"x_range\":{\"id\":\"c5add2cb-d3f6-4c0c-907b-5287d51eac05\",\"type\":\"DataRange1d\"},\"x_scale\":{\"id\":\"6e3f013e-19cc-4045-b413-715b362ed5ec\",\"type\":\"LinearScale\"},\"y_range\":{\"id\":\"e2560931-6640-47fc-80c8-6e083a34f183\",\"type\":\"DataRange1d\"},\"y_scale\":{\"id\":\"f89b0db0-7da9-42e9-93b6-e3f792437500\",\"type\":\"LinearScale\"}},\"id\":\"aacfea74-f850-455f-9a64-fea35ccddafb\",\"subtype\":\"Figure\",\"type\":\"Plot\"},{\"attributes\":{},\"id\":\"6e3f013e-19cc-4045-b413-715b362ed5ec\",\"type\":\"LinearScale\"},{\"attributes\":{\"axis_label\":\"Success percentage %\",\"formatter\":{\"id\":\"aacfc33d-d186-4fab-ac82-80806aaebc73\",\"type\":\"BasicTickFormatter\"},\"plot\":{\"id\":\"aacfea74-f850-455f-9a64-fea35ccddafb\",\"subtype\":\"Figure\",\"type\":\"Plot\"},\"ticker\":{\"id\":\"c9512a28-75cf-4976-865b-10d9249c3ec5\",\"type\":\"BasicTicker\"}},\"id\":\"3aaa6b29-a3f9-41b1-aa5a-b8a1da6e0c2f\",\"type\":\"LinearAxis\"},{\"attributes\":{},\"id\":\"dddf97c5-49ff-4656-82da-14bd73b171e7\",\"type\":\"BasicTicker\"},{\"attributes\":{\"plot\":{\"id\":\"aacfea74-f850-455f-9a64-fea35ccddafb\",\"subtype\":\"Figure\",\"type\":\"Plot\"},\"ticker\":{\"id\":\"dddf97c5-49ff-4656-82da-14bd73b171e7\",\"type\":\"BasicTicker\"}},\"id\":\"6c46e544-0092-443c-bc91-1ab8d9f695b3\",\"type\":\"Grid\"},{\"attributes\":{},\"id\":\"d1336a84-39e2-4877-b4a6-6d4ab9bbe1a1\",\"type\":\"WheelZoomTool\"},{\"attributes\":{\"callback\":null},\"id\":\"e2560931-6640-47fc-80c8-6e083a34f183\",\"type\":\"DataRange1d\"},{\"attributes\":{\"callback\":null,\"column_names\":[\"x\",\"y\"],\"data\":{\"x\":[0,1,2,3,4,5,6,7,8,9,10,11,12,13,14,15,16,17,18,19,20,21,22,23,24,25,26,27,28,29,30,31,32,33,34,35,36,37,38,39,40,41,42,43,44,45,46,47,48,49,50,51,52,53,54,55,56,57,58,59,60,61,62,63,64,65,66,67,68,69,70,71,72,73,74,75,76,77,78,79,80,81,82,83,84,85,86,87,88,89,90,91,92,93,94,95,96,97,98,99,100,101,102,103,104,105,106,107,108],\"y\":[45.9,45.9,44.6,42.9,44.7,43.9,57.6,55.6,56.8,55.3,55.5,55.7,56.9,53.7,56.7,55.8,55.8,54.7,58.5,55.1,55.2,55.6,56.2,56.5,57.1,53.9,58.3,56.0,56.5,54.9,56.8,56.8,54.9,56.6,54.2,54.9,56.4,54.5,53.9,54.6,56.0,56.5,57.2,54.3,52.3,55.7,55.1,54.8,56.7,53.7,55.3,56.9,57.8,55.7,58.4,54.3,54.5,57.2,56.4,54.5,55.9,58.2,56.8,54.3,57.5,54.8,56.9,55.4,56.1,56.3,51.9,53.7,56.0,55.5,55.9,57.1,53.7,53.1,54.6,55.1,55.3,57.5,54.8,58.6,57.6,56.2,55.8,55.0,80.4,79.1,75.2,77.5,75.9,78.9,77.0,78.6,77.8,77.7,78.2,79.8,100.0,100.0,100.0,100.0,100.0,100.0,100.0,100.0,100.0]}},\"id\":\"da362e2d-a3a2-44c7-b390-f89ed8eadd4f\",\"type\":\"ColumnDataSource\"},{\"attributes\":{},\"id\":\"aacfc33d-d186-4fab-ac82-80806aaebc73\",\"type\":\"BasicTickFormatter\"},{\"attributes\":{},\"id\":\"d3ad0a88-bbc6-4e49-9ed4-2df4b96e67a3\",\"type\":\"HelpTool\"}],\"root_ids\":[\"aacfea74-f850-455f-9a64-fea35ccddafb\"]},\"title\":\"Bokeh Application\",\"version\":\"0.12.10\"}};\n",
       "    var render_items = [{\"docid\":\"3468b5fd-3629-485f-ac9d-a6e2c5328254\",\"elementid\":\"c389f5e8-7275-4fad-a991-7abc94a674ef\",\"modelid\":\"aacfea74-f850-455f-9a64-fea35ccddafb\"}];\n",
       "\n",
       "    root.Bokeh.embed.embed_items(docs_json, render_items);\n",
       "  }\n",
       "\n",
       "  if (root.Bokeh !== undefined) {\n",
       "    embed_document(root);\n",
       "  } else {\n",
       "    var attempts = 0;\n",
       "    var timer = setInterval(function(root) {\n",
       "      if (root.Bokeh !== undefined) {\n",
       "        embed_document(root);\n",
       "        clearInterval(timer);\n",
       "      }\n",
       "      attempts++;\n",
       "      if (attempts > 100) {\n",
       "        console.log(\"Bokeh: ERROR: Unable to embed document because BokehJS library is missing\")\n",
       "        clearInterval(timer);\n",
       "      }\n",
       "    }, 10, root)\n",
       "  }\n",
       "})(window);"
      ],
      "application/vnd.bokehjs_exec.v0+json": ""
     },
     "metadata": {
      "application/vnd.bokehjs_exec.v0+json": {
       "id": "aacfea74-f850-455f-9a64-fea35ccddafb"
      }
     },
     "output_type": "display_data"
    }
   ],
   "source": [
    "x = range(len(historic_pct)) # List of iters\n",
    "y = historic_pct # List of percentages\n",
    "\n",
    "p = figure(\n",
    "    title=\"Percentage of learning in each iteration\",\n",
    "    x_axis_label=\"Iterations\", y_axis_label=\"Success percentage %\", width=600)\n",
    "\n",
    "p.line(x, y, legend=None, line_width=3,color=\"red\")\n",
    "show(p)\n"
   ]
  },
  {
   "cell_type": "code",
   "execution_count": 58,
   "metadata": {},
   "outputs": [
    {
     "data": {
      "text/plain": [
       "array([[ 0.04805665,  0.9526019 ,  0.02346198]])"
      ]
     },
     "execution_count": 58,
     "metadata": {},
     "output_type": "execute_result"
    }
   ],
   "source": [
    "model.predict_proba([str_to_list(\"paper\")]) # Choice probability, Scissors[0,1,0]"
   ]
  },
  {
   "cell_type": "code",
   "execution_count": null,
   "metadata": {
    "collapsed": true
   },
   "outputs": [],
   "source": []
  },
  {
   "cell_type": "code",
   "execution_count": null,
   "metadata": {
    "collapsed": true
   },
   "outputs": [],
   "source": []
  }
 ],
 "metadata": {
  "kernelspec": {
   "display_name": "Python 3",
   "language": "python",
   "name": "python3"
  },
  "language_info": {
   "codemirror_mode": {
    "name": "ipython",
    "version": 3
   },
   "file_extension": ".py",
   "mimetype": "text/x-python",
   "name": "python",
   "nbconvert_exporter": "python",
   "pygments_lexer": "ipython3",
   "version": "3.6.3"
  }
 },
 "nbformat": 4,
 "nbformat_minor": 2
}
